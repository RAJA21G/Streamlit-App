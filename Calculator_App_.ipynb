{
  "nbformat": 4,
  "nbformat_minor": 0,
  "metadata": {
    "colab": {
      "provenance": []
    },
    "kernelspec": {
      "name": "python3",
      "display_name": "Python 3"
    },
    "language_info": {
      "name": "python"
    }
  },
  "cells": [
    {
      "cell_type": "code",
      "execution_count": null,
      "metadata": {
        "id": "qLBCq7dezg_a"
      },
      "outputs": [],
      "source": [
        "import streamlit as st\n",
        "\n",
        "# Calculator functions\n",
        "def add(x, y):\n",
        "    return x + y\n",
        "\n",
        "def subtract(x, y):\n",
        "    return x - y\n",
        "\n",
        "def multiply(x, y):\n",
        "    return x * y\n",
        "\n",
        "def divide(x, y):\n",
        "    if y == 0:\n",
        "        return \"Error! Division by zero.\"\n",
        "    return x / y\n",
        "\n",
        "# Streamlit App UI\n",
        "def calculator_app():\n",
        "    st.title(\"Simple Calculator\")\n",
        "\n",
        "    # Select operation\n",
        "    operation = st.selectbox(\"Select Operation\", [\"Add\", \"Subtract\", \"Multiply\", \"Divide\"])\n",
        "\n",
        "    # Input numbers\n",
        "    num1 = st.number_input(\"Enter first number\", format=\"%.2f\")\n",
        "    num2 = st.number_input(\"Enter second number\", format=\"%.2f\")\n",
        "\n",
        "    # Perform calculation based on operation\n",
        "    if operation == \"Add\":\n",
        "        result = add(num1, num2)\n",
        "    elif operation == \"Subtract\":\n",
        "        result = subtract(num1, num2)\n",
        "    elif operation == \"Multiply\":\n",
        "        result = multiply(num1, num2)\n",
        "    elif operation == \"Divide\":\n",
        "        result = divide(num1, num2)\n",
        "\n",
        "    # Display the result\n",
        "    if st.button(\"Calculate\"):\n",
        "        st.write(f\"Result: {result}\")\n",
        "\n",
        "# Run the Streamlit app\n",
        "if __name__ == \"__main__\":\n",
        "    calculator_app()\n"
      ]
    }
  ]
}